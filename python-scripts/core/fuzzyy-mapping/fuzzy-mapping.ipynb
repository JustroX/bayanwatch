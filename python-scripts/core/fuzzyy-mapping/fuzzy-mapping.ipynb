{
 "cells": [
  {
   "cell_type": "markdown",
   "metadata": {},
   "source": [
    "# Fuzzy Mapping"
   ]
  },
  {
   "cell_type": "code",
   "execution_count": 11,
   "metadata": {},
   "outputs": [
    {
     "name": "stdout",
     "output_type": "stream",
     "text": [
      "['Ferdinand Marcos Jr' 'Lucas Bersamin' 'Diana Mackey' 'Donald Trump'\n",
      " 'Kamala Harris' 'Kiefer Ravena' 'LeBron James' 'Sara Duterte'\n",
      " 'Alejandro Tengco' 'Juan Ponce Enrile' 'Menardo Guevarra' 'Winston Casio'\n",
      " 'Chiz Escudero' 'Imelda Marcos' 'Bato Dela Rosa' 'Israelito Torreon'\n",
      " 'J-Hope' 'Leni Robredo' 'Liam Payne' 'Lorraine Badoy' 'Rodrigo Duterte'\n",
      " 'Jonathan Keith Flores' 'Luistro' 'Michael Poa' 'Nolasco Mempin'\n",
      " 'Ernesto Dionisio Jr.' 'Gloria Macapagal Arroyo' 'Joel Chua' 'Bam Aquino'\n",
      " 'Noynoy Aquino' 'Camille Villar' 'Lito Lapid' 'Tito Sotto'\n",
      " 'Analiza Tabujara-Soriano' 'Jose Perez' 'Bongbong Marcos Jr.'\n",
      " 'Gabriel Bordado Jr.' 'John Barry Tayam' 'John Rey Tabujara'\n",
      " 'Jurry Nabaja' 'Paul Octaviano' 'Vicente Perez' 'Christopher \"Bong\" Go'\n",
      " 'Jesse Robredo' 'Nelson Legacion' 'Apollo Quiboloy' 'Ariel Arias'\n",
      " 'John Rex Laudiangco' 'Mark Tolentino' 'Oscar Morado' 'Risa Hontiveros'\n",
      " 'Sonny Matula' 'Alice Guo' 'Guo Hua Ping' 'Huang Zhiyang'\n",
      " 'Jinggoy Estrada' 'Harry Roque' 'Grace Poe' 'Francel Margareth Padilla'\n",
      " 'France Castro' 'Cynthia Villar' 'Jesus Crispin Remulla' 'Koko Pimentel'\n",
      " 'Paolo Ortega' 'Romeo Acop' 'Areiz Macaraig' 'Butch Borja'\n",
      " 'Elmer Baldemoro' 'Frank Mendoza' 'Gabby Bordado' 'Gayle Abonal-Gomez'\n",
      " 'Jess Albeus' 'Miles Raquid-Arroyo' 'Omar Buenafe' 'Oying Rosales'\n",
      " 'Romulo Macalintal' 'Jejomar Binay' 'Joseph Estrada' 'Noli de Castro'\n",
      " 'Teofisto Guingona Jr.' 'Ronald dela Rosa' 'She Zhijiang' 'Tony Yang'\n",
      " 'JV Ejercito' 'Sherwin Gatchalian' 'Richard Anthony Fadullon'\n",
      " 'Dan Fernandez' 'None mentioned' 'Gordon' 'Diokno' 'Ronald Bato'\n",
      " 'Elvis Balayan' 'Barry Gutierrez' 'Martin Romualdez' 'Arnie Teves'\n",
      " 'Gerald Bantag' 'Salvador Panelo' 'Jericho Petilla'\n",
      " 'Sainbuyan Amarsaikhan' 'Carlo Catiil' 'Samuel Zacate' 'Froilan Calilung']\n"
     ]
    }
   ],
   "source": [
    "import pandas as pd\n",
    "from fuzzywuzzy import process\n",
    "\n",
    "# Load the CSV file\n",
    "df = pd.read_csv('files/politician_sentiments.csv')\n",
    "\n",
    "def normalize_politician_names(names):\n",
    "    unique_names = set(names) \n",
    "    name_mapping = {}\n",
    "    for name in unique_names:\n",
    "        if name not in name_mapping:\n",
    "            similar_names = process.extract(name, unique_names, limit=None)\n",
    "            for similar_name, score in similar_names:\n",
    "                if score >= 80 and similar_name != name:\n",
    "                    name_mapping[similar_name] = name\n",
    "\n",
    "    return names.map(name_mapping).fillna(names)\n",
    "\n",
    "df['politician'] = normalize_politician_names(df['politician'])\n",
    "print(df['politician'].unique())\n",
    "df.to_csv('files/normalized_politicians.csv', index=False)\n"
   ]
  },
  {
   "cell_type": "code",
   "execution_count": null,
   "metadata": {},
   "outputs": [],
   "source": []
  }
 ],
 "metadata": {
  "kernelspec": {
   "display_name": "Python 3",
   "language": "python",
   "name": "python3"
  },
  "language_info": {
   "codemirror_mode": {
    "name": "ipython",
    "version": 3
   },
   "file_extension": ".py",
   "mimetype": "text/x-python",
   "name": "python",
   "nbconvert_exporter": "python",
   "pygments_lexer": "ipython3",
   "version": "3.12.7"
  }
 },
 "nbformat": 4,
 "nbformat_minor": 2
}
