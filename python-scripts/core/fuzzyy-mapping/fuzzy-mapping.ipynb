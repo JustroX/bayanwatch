{
 "cells": [
  {
   "cell_type": "markdown",
   "metadata": {},
   "source": [
    "# Fuzzy Mapping"
   ]
  },
  {
   "cell_type": "code",
   "execution_count": 2,
   "metadata": {},
   "outputs": [
    {
     "name": "stdout",
     "output_type": "stream",
     "text": [
      "['Ferdinand R. Marcos' 'Rodrigo Duterte' 'Donald Trump' 'Kamala Harris'\n",
      " 'Kiefer Ravena' 'LeBron James' 'Sara Duterte' 'Alejandro Tengco'\n",
      " 'Joel Chua' 'Jonvic Remulla' 'Juan Ponce Enrile' 'Menardo Guevarra'\n",
      " 'Winston Casio' 'Chiz Escudero' 'Ferdinand Marcos Jr.'\n",
      " 'Israelito Torreon' 'J-Hope' 'Leni Robredo' 'Liam Payne' 'Lorraine Badoy'\n",
      " 'Jonathan Andal' 'Luistro' 'Michael Poa' 'Nolasco Mempin'\n",
      " 'Ernesto Dionisio Jr.' 'Gloria Camora' 'Alan Tanjuakio' 'Chris Sorongon'\n",
      " 'Edward Fajarda' 'Gina Acosta' 'Jiezel Cone Asia' 'Juleita Villadelrey'\n",
      " 'Kelvin Gerome Teñido' 'Lemuel Ortonio' 'Ma. Constancia-Lim'\n",
      " 'Maria Laiza Pamittan-Frogoso' 'Maximo Alexis Tan' 'Norman Baloro'\n",
      " 'Regina Rosa Tecson' 'Rolmar Basalan' 'Rosalynne Sanchez' 'Winnie Dayego'\n",
      " 'Zuleika Lopez' 'Bam Aquino' 'Paolo Ortega' 'Camille Villar' 'Lito Lapid'\n",
      " 'Tito Sotto' 'Analiza Tabujara-Soriano' 'Areiz Macaraig' 'Butch Borja'\n",
      " 'Elmer Baldemoro' 'Jose Perez' 'Frank Mendoza' 'Gabriel Bordado Jr.'\n",
      " 'Gayle Abonal-Gomez' 'Jess Albeus' 'Jesse Robredo' 'John Barry Tayam'\n",
      " 'John Rey Tabujara' 'Jurry Nabaja' 'Miles Raquid-Arroyo' 'Omar Buenafe'\n",
      " 'Oying Rosales' 'Paul Octaviano' 'Vicente Perez' 'Bong Revilla'\n",
      " 'Nelson Legacion' 'Apollo Quiboloy' 'Ariel Arias' 'John Rex Laudiangco'\n",
      " 'Mark Tolentino' 'Oscar Morado' 'Risa Hontiveros' 'Sonny Matula'\n",
      " 'Alice Guo' 'Guo Hua Ping' 'Huang Zhiyang' 'Jinggoy Estrada' 'Grace Poe'\n",
      " 'Lucas Bersamin' 'Teofisto Guingona Jr.' 'France Castro' 'Cynthia Villar'\n",
      " 'Koko Pimentel' 'Romeo Acop' 'Gabby Bordado' 'Romulo Macalintal'\n",
      " 'Joseph Estrada' 'Bato' 'She Zhijiang' 'Tony Yang' 'JV Ejercito'\n",
      " 'Sherwin Gatchalian' 'Richard Anthony Fadullon' 'None mentioned.'\n",
      " 'Gordon' 'Vicente Escudero' 'Diokno' 'Harry Roque' 'Elvis Balayan'\n",
      " 'Barry Gutierrez' 'Martin Romualdez' 'Ronald dela Rosa' 'Arnie Teves'\n",
      " 'Gerald Bantag' 'Salvador Panelo' 'Nestor D. Natanauan' 'Jericho Petilla'\n",
      " 'Sainbuyan Amarsaikhan' 'Carlo Catiil' 'Froilan Calilung']\n"
     ]
    }
   ],
   "source": [
    "import pandas as pd\n",
    "from fuzzywuzzy import process\n",
    "\n",
    "# Load the CSV file\n",
    "df = pd.read_csv('files/politician_sentiments.csv')\n",
    "\n",
    "def normalize_politician_names(names):\n",
    "    unique_names = set(names) \n",
    "    name_mapping = {}\n",
    "    for name in unique_names:\n",
    "        if name not in name_mapping:\n",
    "            similar_names = process.extract(name, unique_names, limit=None)\n",
    "            for similar_name, score in similar_names:\n",
    "                if score >= 80 and similar_name != name:\n",
    "                    name_mapping[similar_name] = name\n",
    "\n",
    "    return names.map(name_mapping).fillna(names)\n",
    "\n",
    "def normalize_nicknames(names):\n",
    "    nicknames = {\n",
    "        'Bongbong Marcos Jr.': 'Ferdinand Marcos Jr.',\n",
    "        'Ferdinand Bongbong Marcos Jr.': 'Ferdinand Marcos Jr.',\n",
    "        'Apollo C. Quiboloy': 'Apollo Quiboloy',\n",
    "    }\n",
    "    def normalize_name(name):\n",
    "        if name in nicknames:\n",
    "            return nicknames[name]\n",
    "        return name\n",
    "    return names.map(normalize_name)\n",
    "\n",
    "df['politician'] = normalize_politician_names(df['politician'])\n",
    "df['politician'] = normalize_nicknames(df['politician'])\n",
    "print(df['politician'].unique())\n",
    "df.to_csv('files/normalized_politicians.csv', index=False)\n"
   ]
  },
  {
   "cell_type": "code",
   "execution_count": null,
   "metadata": {},
   "outputs": [],
   "source": []
  }
 ],
 "metadata": {
  "kernelspec": {
   "display_name": "Python 3",
   "language": "python",
   "name": "python3"
  },
  "language_info": {
   "codemirror_mode": {
    "name": "ipython",
    "version": 3
   },
   "file_extension": ".py",
   "mimetype": "text/x-python",
   "name": "python",
   "nbconvert_exporter": "python",
   "pygments_lexer": "ipython3",
   "version": "3.12.7"
  }
 },
 "nbformat": 4,
 "nbformat_minor": 2
}
